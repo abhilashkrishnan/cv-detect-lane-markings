{
 "cells": [
  {
   "cell_type": "code",
   "execution_count": 6,
   "id": "88a6126e",
   "metadata": {},
   "outputs": [],
   "source": [
    "import cv2\n",
    "import numpy as np\n",
    "import matplotlib.pyplot as plt"
   ]
  },
  {
   "cell_type": "code",
   "execution_count": 7,
   "id": "df699604",
   "metadata": {},
   "outputs": [],
   "source": [
    "def canny_edge(image):\n",
    "    gray_conversion = cv2.cvtColor(image, cv2.COLOR_RGB2GRAY)\n",
    "    blur_conversion = cv2.GaussianBlur(gray_conversion, (5,5), 0)\n",
    "    canny_conversion = cv2.Canny(blur_conversion, 50, 155)\n",
    "    return canny_conversion"
   ]
  },
  {
   "cell_type": "code",
   "execution_count": 8,
   "id": "309b60d6",
   "metadata": {},
   "outputs": [],
   "source": [
    "def reg_of_interest(image):\n",
    "    image_height = image.shape[0]\n",
    "    polygons = np.array([[(200, image_height), (1100, image_height), (551, 250)]])\n",
    "    image_mask = np.zeros_like(image)\n",
    "    cv2.fillPoly(image_mask, polygons, 255)\n",
    "    masking_image = cv2.bitwise_and(image, image_mask)\n",
    "    return masking_image"
   ]
  },
  {
   "cell_type": "code",
   "execution_count": 11,
   "id": "ebc9db1c",
   "metadata": {},
   "outputs": [],
   "source": [
    "def show_lines(image, lines):\n",
    "    lines_image = np.zeros_like(image)\n",
    "    if lines is not None:\n",
    "        for line in lines:\n",
    "            X1, Y1, X2, Y2 = line.reshape(4)\n",
    "            cv2.line(lines_image, (X1,Y1), (X2,Y2), (255,0,0), 10)\n",
    "    return lines_image        "
   ]
  },
  {
   "cell_type": "code",
   "execution_count": null,
   "id": "09297d80",
   "metadata": {},
   "outputs": [],
   "source": [
    "image = cv2.imread('test_image.jpg')\n",
    "lane_image = np.copy(image)\n",
    "canny = canny_edge(lane_image)\n",
    "cropped_image = reg_of_interest(canny)\n",
    "lines = cv2.HoughLinesP(cropped_image, 2, np.pi/180, 100, np.array([]), minLineLength=40, maxLineGap=5)\n",
    "line_image = show_lines(lane_image, lines)\n",
    "combine_image = cv2.addWeighted(lane_image, 0.8, line_image, 1, 1)\n",
    "cv2.imshow('Result', combine_image)\n",
    "cv2.waitKey(0)\n",
    "cv2.destroyAllWindows()"
   ]
  }
 ],
 "metadata": {
  "kernelspec": {
   "display_name": "Python 3 (ipykernel)",
   "language": "python",
   "name": "python3"
  },
  "language_info": {
   "codemirror_mode": {
    "name": "ipython",
    "version": 3
   },
   "file_extension": ".py",
   "mimetype": "text/x-python",
   "name": "python",
   "nbconvert_exporter": "python",
   "pygments_lexer": "ipython3",
   "version": "3.7.12"
  }
 },
 "nbformat": 4,
 "nbformat_minor": 5
}
